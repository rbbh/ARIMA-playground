{
  "nbformat": 4,
  "nbformat_minor": 0,
  "metadata": {
    "colab": {
      "name": "ARIMA.ipynb",
      "provenance": [],
      "authorship_tag": "ABX9TyN3pzD3BqFiYD3hpBA77OYJ",
      "include_colab_link": true
    },
    "kernelspec": {
      "name": "python3",
      "display_name": "Python 3"
    }
  },
  "cells": [
    {
      "cell_type": "markdown",
      "metadata": {
        "id": "view-in-github",
        "colab_type": "text"
      },
      "source": [
        "<a href=\"https://colab.research.google.com/github/rbbh/ARIMA-playground/blob/master/ARIMA.ipynb\" target=\"_parent\"><img src=\"https://colab.research.google.com/assets/colab-badge.svg\" alt=\"Open In Colab\"/></a>"
      ]
    },
    {
      "cell_type": "code",
      "metadata": {
        "id": "eWs7GQRLWli3",
        "colab_type": "code",
        "outputId": "3c375af2-ea80-4fc8-8730-8259664f53cd",
        "colab": {
          "base_uri": "https://localhost:8080/",
          "height": 225
        }
      },
      "source": [
        "pip install pmdarima"
      ],
      "execution_count": 55,
      "outputs": [
        {
          "output_type": "stream",
          "text": [
            "Requirement already satisfied: pmdarima in /usr/local/lib/python3.6/dist-packages (1.5.2)\n",
            "Requirement already satisfied: statsmodels>=0.10.0 in /usr/local/lib/python3.6/dist-packages (from pmdarima) (0.10.2)\n",
            "Requirement already satisfied: Cython>=0.29 in /usr/local/lib/python3.6/dist-packages (from pmdarima) (0.29.14)\n",
            "Requirement already satisfied: numpy>=1.16 in /usr/local/lib/python3.6/dist-packages (from pmdarima) (1.17.5)\n",
            "Requirement already satisfied: scikit-learn>=0.19 in /usr/local/lib/python3.6/dist-packages (from pmdarima) (0.22.1)\n",
            "Requirement already satisfied: scipy>=1.3 in /usr/local/lib/python3.6/dist-packages (from pmdarima) (1.4.1)\n",
            "Requirement already satisfied: pandas>=0.19 in /usr/local/lib/python3.6/dist-packages (from pmdarima) (0.25.3)\n",
            "Requirement already satisfied: joblib>=0.11 in /usr/local/lib/python3.6/dist-packages (from pmdarima) (0.14.1)\n",
            "Requirement already satisfied: patsy>=0.4.0 in /usr/local/lib/python3.6/dist-packages (from statsmodels>=0.10.0->pmdarima) (0.5.1)\n",
            "Requirement already satisfied: pytz>=2017.2 in /usr/local/lib/python3.6/dist-packages (from pandas>=0.19->pmdarima) (2018.9)\n",
            "Requirement already satisfied: python-dateutil>=2.6.1 in /usr/local/lib/python3.6/dist-packages (from pandas>=0.19->pmdarima) (2.6.1)\n",
            "Requirement already satisfied: six in /usr/local/lib/python3.6/dist-packages (from patsy>=0.4.0->statsmodels>=0.10.0->pmdarima) (1.12.0)\n"
          ],
          "name": "stdout"
        }
      ]
    },
    {
      "cell_type": "code",
      "metadata": {
        "id": "F-L2FEemv1iC",
        "colab_type": "code",
        "colab": {}
      },
      "source": [
        "import pmdarima as pm\n",
        "from pmdarima.model_selection import train_test_split\n",
        "import numpy as np\n",
        "import matplotlib.pyplot as plt"
      ],
      "execution_count": 0,
      "outputs": []
    },
    {
      "cell_type": "code",
      "metadata": {
        "id": "Oy977HvrZFdb",
        "colab_type": "code",
        "colab": {
          "resources": {
            "http://localhost:8080/nbextensions/google.colab/files.js": {
              "data": "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",
              "ok": true,
              "headers": [
                [
                  "content-type",
                  "application/javascript"
                ]
              ],
              "status": 200,
              "status_text": ""
            }
          },
          "base_uri": "https://localhost:8080/",
          "height": 75
        },
        "outputId": "3aea9e8b-912f-46c5-a573-1ce927cca3c1"
      },
      "source": [
        "from google.colab import files\n",
        "uploaded = files.upload()"
      ],
      "execution_count": 58,
      "outputs": [
        {
          "output_type": "display_data",
          "data": {
            "text/html": [
              "\n",
              "     <input type=\"file\" id=\"files-a72dd523-8b1a-41ae-a28d-a0072aaa57c9\" name=\"files[]\" multiple disabled />\n",
              "     <output id=\"result-a72dd523-8b1a-41ae-a28d-a0072aaa57c9\">\n",
              "      Upload widget is only available when the cell has been executed in the\n",
              "      current browser session. Please rerun this cell to enable.\n",
              "      </output>\n",
              "      <script src=\"/nbextensions/google.colab/files.js\"></script> "
            ],
            "text/plain": [
              "<IPython.core.display.HTML object>"
            ]
          },
          "metadata": {
            "tags": []
          }
        },
        {
          "output_type": "stream",
          "text": [
            "Saving airlines2.txt to airlines2.txt\n"
          ],
          "name": "stdout"
        }
      ]
    },
    {
      "cell_type": "code",
      "metadata": {
        "id": "Ujp4Or8LZM1v",
        "colab_type": "code",
        "colab": {}
      },
      "source": [
        "import io\n",
        "import pandas as pd\n",
        "\n",
        "# Un-comment the line for the data base that\n",
        "# you want to predict\n",
        "\n",
        "data = pd.read_csv(io.BytesIO(uploaded['airlines2.txt']))\n",
        "#data = pd.read_csv(io.BytesIO(uploaded['DadosONS.txt']))\n",
        "#data = pd.read_csv(io.BytesIO(uploaded['carsales.txt']))\n",
        "#data = pd.read_csv(io.BytesIO(uploaded['coloradoRiver.txt']))\n",
        "#data = pd.read_csv(io.BytesIO(uploaded['accidentalDeathUSA.txt']))\n",
        "#data = pd.read_csv(io.BytesIO(uploaded['electric.txt']))\n",
        "#data = pd.read_csv(io.BytesIO(uploaded['gas.txt']))\n",
        "#data = pd.read_csv(io.BytesIO(uploaded['lakeerie.txt']))\n",
        "#data = pd.read_csv(io.BytesIO(uploaded['milk.txt']))\n",
        "#data = pd.read_csv(io.BytesIO(uploaded['redwine.txt']))"
      ],
      "execution_count": 0,
      "outputs": []
    },
    {
      "cell_type": "code",
      "metadata": {
        "id": "nwhy5Unk4Q2_",
        "colab_type": "code",
        "colab": {
          "base_uri": "https://localhost:8080/",
          "height": 283
        },
        "outputId": "978be8b9-d30a-4b31-b3fa-99edd505dcb3"
      },
      "source": [
        "data.plot()"
      ],
      "execution_count": 61,
      "outputs": [
        {
          "output_type": "execute_result",
          "data": {
            "text/plain": [
              "<matplotlib.axes._subplots.AxesSubplot at 0x7fdcb0520be0>"
            ]
          },
          "metadata": {
            "tags": []
          },
          "execution_count": 61
        },
        {
          "output_type": "display_data",
          "data": {
            "image/png": "[encoded data removed]",
            "text/plain": [
              "<Figure size 432x288 with 1 Axes>"
            ]
          },
          "metadata": {
            "tags": []
          }
        }
      ]
    },
    {
      "cell_type": "code",
      "metadata": {
        "id": "HYV9SjbWnRzH",
        "colab_type": "code",
        "colab": {}
      },
      "source": [
        "data_n = data.copy()\n",
        "data_n = data_n/data_n.max()"
      ],
      "execution_count": 0,
      "outputs": []
    },
    {
      "cell_type": "code",
      "metadata": {
        "id": "GUV7L63udYwN",
        "colab_type": "code",
        "colab": {
          "base_uri": "https://localhost:8080/",
          "height": 35
        },
        "outputId": "75496a1a-f5dd-46cd-a1d8-33aa77063e6d"
      },
      "source": [
        "len(data)"
      ],
      "execution_count": 63,
      "outputs": [
        {
          "output_type": "execute_result",
          "data": {
            "text/plain": [
              "144"
            ]
          },
          "metadata": {
            "tags": []
          },
          "execution_count": 63
        }
      ]
    },
    {
      "cell_type": "code",
      "metadata": {
        "id": "yb0zGNARwE9u",
        "colab_type": "code",
        "outputId": "70f7bb2b-95ef-4c21-8292-b85d513517af",
        "colab": {
          "base_uri": "https://localhost:8080/",
          "height": 389
        }
      },
      "source": [
        "# Load/split the data\n",
        "train, test = train_test_split(data_n, train_size=100)\n",
        "\n",
        "# Fit the model\n",
        "model = pm.auto_arima(train, seasonal=True, m=12)\n",
        "\n",
        "# Make the forecasts\n",
        "forecasts = model.predict(test.shape[0])  # predict N steps into the future\n",
        "\n",
        "# Visualize the forecasts (blue=train, green=forecasts)\n",
        "x = np.arange(data_n.shape[0])\n",
        "plt.plot(x[:100], train, c='blue')\n",
        "plt.plot(x[100:], forecasts, c='green')\n",
        "plt.show()"
      ],
      "execution_count": 64,
      "outputs": [
        {
          "output_type": "stream",
          "text": [
            "/usr/local/lib/python3.6/dist-packages/statsmodels/base/model.py:512: ConvergenceWarning: Maximum Likelihood optimization failed to converge. Check mle_retvals\n",
            "  \"Check mle_retvals\", ConvergenceWarning)\n",
            "/usr/local/lib/python3.6/dist-packages/statsmodels/tsa/statespace/sarimax.py:949: UserWarning: Non-stationary starting autoregressive parameters found. Using zeros as starting parameters.\n",
            "  warn('Non-stationary starting autoregressive parameters'\n",
            "/usr/local/lib/python3.6/dist-packages/statsmodels/tsa/statespace/sarimax.py:961: UserWarning: Non-invertible starting MA parameters found. Using zeros as starting parameters.\n",
            "  warn('Non-invertible starting MA parameters found.'\n"
          ],
          "name": "stderr"
        },
        {
          "output_type": "display_data",
          "data": {
            "image/png": "[encoded data removed]",
            "text/plain": [
              "<Figure size 432x288 with 1 Axes>"
            ]
          },
          "metadata": {
            "tags": []
          }
        }
      ]
    },
    {
      "cell_type": "code",
      "metadata": {
        "id": "y7Mide4g547-",
        "colab_type": "code",
        "colab": {
          "base_uri": "https://localhost:8080/",
          "height": 265
        },
        "outputId": "ad06916c-7113-4626-d533-c254494ca22c"
      },
      "source": [
        "x = np.arange(data.shape[0])\n",
        "plt.plot(x, data_n, c='blue')\n",
        "plt.show()"
      ],
      "execution_count": 65,
      "outputs": [
        {
          "output_type": "display_data",
          "data": {
            "image/png": "[encoded data removed]",
            "text/plain": [
              "<Figure size 432x288 with 1 Axes>"
            ]
          },
          "metadata": {
            "tags": []
          }
        }
      ]
    },
    {
      "cell_type": "code",
      "metadata": {
        "id": "lhAIyDNOkiuq",
        "colab_type": "code",
        "colab": {}
      },
      "source": [
        "from sklearn.metrics import mean_squared_error"
      ],
      "execution_count": 0,
      "outputs": []
    },
    {
      "cell_type": "code",
      "metadata": {
        "id": "8B3j9v9clrnn",
        "colab_type": "code",
        "colab": {
          "base_uri": "https://localhost:8080/",
          "height": 35
        },
        "outputId": "6a7cedd0-91e1-405c-95fc-c870d11c5759"
      },
      "source": [
        "mse = mean_squared_error(forecasts, test)\n",
        "print(mse)"
      ],
      "execution_count": 67,
      "outputs": [
        {
          "output_type": "stream",
          "text": [
            "0.0031495669091119653\n"
          ],
          "name": "stdout"
        }
      ]
    },
    {
      "cell_type": "code",
      "metadata": {
        "id": "uta2gCySmGjI",
        "colab_type": "code",
        "colab": {}
      },
      "source": [
        "# Extra packages for if the traditional prediction\n",
        "# method doesn't work\n",
        "\n",
        "from pmdarima.pipeline import Pipeline\n",
        "from pmdarima.preprocessing import BoxCoxEndogTransformer\n",
        "import pickle"
      ],
      "execution_count": 0,
      "outputs": []
    },
    {
      "cell_type": "code",
      "metadata": {
        "id": "jisU4_GOtw7V",
        "colab_type": "code",
        "colab": {
          "base_uri": "https://localhost:8080/",
          "height": 939
        },
        "outputId": "521e1804-5c61-47a8-c48f-88d4b4c323a6"
      },
      "source": [
        "# Define and fit the pipeline\n",
        "pipeline = Pipeline([\n",
        "    ('boxcox', BoxCoxEndogTransformer(lmbda2=1e-6)),  # lmbda2 avoids negative values\n",
        "    ('arima', pm.AutoARIMA(seasonal=True, m=12,\n",
        "                           suppress_warnings=True,\n",
        "                           trace=True))\n",
        "])\n",
        "\n",
        "pipeline.fit(train)"
      ],
      "execution_count": 69,
      "outputs": [
        {
          "output_type": "stream",
          "text": [
            "Fit ARIMA: order=(2, 0, 2) seasonal_order=(1, 1, 1, 12); AIC=-320.778, BIC=-300.959, Fit time=3.078 seconds\n",
            "Fit ARIMA: order=(0, 0, 0) seasonal_order=(0, 1, 0, 12); AIC=-245.715, BIC=-240.760, Fit time=0.105 seconds\n",
            "Fit ARIMA: order=(1, 0, 0) seasonal_order=(1, 1, 0, 12); AIC=-317.274, BIC=-307.365, Fit time=1.516 seconds\n",
            "Fit ARIMA: order=(0, 0, 1) seasonal_order=(0, 1, 1, 12); AIC=-302.336, BIC=-292.427, Fit time=2.000 seconds\n",
            "Fit ARIMA: order=(0, 0, 0) seasonal_order=(0, 1, 0, 12); AIC=-95.954, BIC=-93.477, Fit time=0.037 seconds\n",
            "Fit ARIMA: order=(2, 0, 2) seasonal_order=(0, 1, 1, 12); AIC=-324.777, BIC=-307.436, Fit time=2.901 seconds\n",
            "Fit ARIMA: order=(2, 0, 2) seasonal_order=(0, 1, 0, 12); AIC=-299.371, BIC=-284.507, Fit time=0.912 seconds\n",
            "Fit ARIMA: order=(2, 0, 2) seasonal_order=(0, 1, 2, 12); AIC=-322.698, BIC=-302.880, Fit time=6.854 seconds\n",
            "Fit ARIMA: order=(2, 0, 2) seasonal_order=(1, 1, 0, 12); AIC=-317.278, BIC=-299.936, Fit time=2.544 seconds\n",
            "Fit ARIMA: order=(2, 0, 2) seasonal_order=(1, 1, 2, 12); AIC=-319.625, BIC=-297.329, Fit time=8.102 seconds\n",
            "Fit ARIMA: order=(1, 0, 2) seasonal_order=(0, 1, 1, 12); AIC=-326.108, BIC=-311.244, Fit time=3.068 seconds\n",
            "Fit ARIMA: order=(1, 0, 2) seasonal_order=(0, 1, 0, 12); AIC=-299.598, BIC=-287.212, Fit time=0.737 seconds\n",
            "Fit ARIMA: order=(1, 0, 2) seasonal_order=(1, 1, 1, 12); AIC=-322.200, BIC=-304.858, Fit time=2.378 seconds\n",
            "Near non-invertible roots for order (1, 0, 2)(1, 1, 1, 12); setting score to inf (at least one inverse root too close to the border of the unit circle: 0.991)\n",
            "Fit ARIMA: order=(1, 0, 2) seasonal_order=(0, 1, 2, 12); AIC=-324.114, BIC=-306.772, Fit time=5.442 seconds\n",
            "Fit ARIMA: order=(1, 0, 2) seasonal_order=(1, 1, 0, 12); AIC=-318.606, BIC=-303.742, Fit time=1.993 seconds\n",
            "Fit ARIMA: order=(1, 0, 2) seasonal_order=(1, 1, 2, 12); AIC=-322.006, BIC=-302.187, Fit time=7.101 seconds\n",
            "Fit ARIMA: order=(0, 0, 2) seasonal_order=(0, 1, 1, 12); AIC=-320.107, BIC=-307.721, Fit time=1.387 seconds\n",
            "Fit ARIMA: order=(1, 0, 1) seasonal_order=(0, 1, 1, 12); AIC=-327.478, BIC=-315.091, Fit time=0.845 seconds\n",
            "Fit ARIMA: order=(1, 0, 1) seasonal_order=(0, 1, 0, 12); AIC=-301.377, BIC=-291.467, Fit time=0.401 seconds\n",
            "Fit ARIMA: order=(1, 0, 1) seasonal_order=(1, 1, 1, 12); AIC=-323.395, BIC=-308.531, Fit time=1.629 seconds\n",
            "Near non-invertible roots for order (1, 0, 1)(1, 1, 1, 12); setting score to inf (at least one inverse root too close to the border of the unit circle: 0.992)\n",
            "Fit ARIMA: order=(1, 0, 1) seasonal_order=(0, 1, 2, 12); AIC=-325.851, BIC=-310.987, Fit time=4.164 seconds\n",
            "Fit ARIMA: order=(1, 0, 1) seasonal_order=(1, 1, 0, 12); AIC=-320.586, BIC=-308.199, Fit time=1.881 seconds\n",
            "Fit ARIMA: order=(1, 0, 1) seasonal_order=(1, 1, 2, 12); AIC=-321.765, BIC=-304.424, Fit time=4.026 seconds\n",
            "Near non-invertible roots for order (1, 0, 1)(1, 1, 2, 12); setting score to inf (at least one inverse root too close to the border of the unit circle: 0.994)\n",
            "Fit ARIMA: order=(1, 0, 0) seasonal_order=(0, 1, 1, 12); AIC=-326.887, BIC=-316.978, Fit time=0.925 seconds\n",
            "Fit ARIMA: order=(2, 0, 1) seasonal_order=(0, 1, 1, 12); AIC=-326.826, BIC=-311.962, Fit time=2.165 seconds\n",
            "Fit ARIMA: order=(0, 0, 0) seasonal_order=(0, 1, 1, 12); AIC=-273.022, BIC=-265.590, Fit time=0.573 seconds\n",
            "Fit ARIMA: order=(2, 0, 0) seasonal_order=(0, 1, 1, 12); AIC=-328.310, BIC=-315.923, Fit time=0.952 seconds\n",
            "Fit ARIMA: order=(3, 0, 1) seasonal_order=(0, 1, 1, 12); AIC=-324.839, BIC=-307.498, Fit time=2.525 seconds\n",
            "Fit ARIMA: order=(2, 0, 0) seasonal_order=(0, 1, 0, 12); AIC=-302.053, BIC=-292.143, Fit time=0.345 seconds\n",
            "Fit ARIMA: order=(2, 0, 0) seasonal_order=(1, 1, 1, 12); AIC=-323.930, BIC=-309.066, Fit time=3.398 seconds\n",
            "Near non-invertible roots for order (2, 0, 0)(1, 1, 1, 12); setting score to inf (at least one inverse root too close to the border of the unit circle: 0.992)\n",
            "Fit ARIMA: order=(2, 0, 0) seasonal_order=(0, 1, 2, 12); AIC=-326.361, BIC=-311.497, Fit time=3.529 seconds\n",
            "Fit ARIMA: order=(2, 0, 0) seasonal_order=(1, 1, 0, 12); AIC=-320.941, BIC=-308.555, Fit time=2.068 seconds\n",
            "Fit ARIMA: order=(2, 0, 0) seasonal_order=(1, 1, 2, 12); AIC=-324.539, BIC=-307.197, Fit time=4.937 seconds\n",
            "Fit ARIMA: order=(3, 0, 0) seasonal_order=(0, 1, 1, 12); AIC=-326.690, BIC=-311.826, Fit time=1.424 seconds\n",
            "Total fit time: 86.022 seconds\n"
          ],
          "name": "stdout"
        },
        {
          "output_type": "execute_result",
          "data": {
            "text/plain": [
              "Pipeline(steps=[('boxcox',\n",
              "                 BoxCoxEndogTransformer(floor=1e-16, lmbda=None, lmbda2=1e-06,\n",
              "                                        neg_action='raise')),\n",
              "                ('arima',\n",
              "                 AutoARIMA(D=None, alpha=0.05, d=None, error_action='warn',\n",
              "                           information_criterion='aic', m=12, max_D=1, max_P=2,\n",
              "                           max_Q=2, max_d=2, max_order=5, max_p=5, max_q=5,\n",
              "                           maxiter=50, method='lbfgs', n_fits=10, n_jobs=1,\n",
              "                           offset_test_args=None, out_of_sample_size=0,\n",
              "                           random=False, random_state=None, scoring='mse',\n",
              "                           scoring_args=None, seasonal=True,\n",
              "                           seasonal_test='ocsb', seasonal_test_args=None,\n",
              "                           start_P=1, start_Q=1, start_p=2, start_params=None, ...))])"
            ]
          },
          "metadata": {
            "tags": []
          },
          "execution_count": 69
        }
      ]
    },
    {
      "cell_type": "code",
      "metadata": {
        "id": "n2fr9DtauYRY",
        "colab_type": "code",
        "colab": {}
      },
      "source": [
        "# Serializing the model:\n",
        "with open('model.pkl', 'wb') as pkl:\n",
        "    pickle.dump(pipeline, pkl)"
      ],
      "execution_count": 0,
      "outputs": []
    },
    {
      "cell_type": "code",
      "metadata": {
        "id": "BvOHssXV5jx_",
        "colab_type": "code",
        "colab": {
          "base_uri": "https://localhost:8080/",
          "height": 156
        },
        "outputId": "80cad936-d2d1-433c-bebe-fd8a0fe3736d"
      },
      "source": [
        "# Loading it and making predictions seamlessly:\n",
        "with open('model.pkl', 'rb') as pkl:\n",
        "    mod = pickle.load(pkl)\n",
        "    forecasts = mod.predict(44)\n",
        "    print(forecasts)"
      ],
      "execution_count": 74,
      "outputs": [
        {
          "output_type": "stream",
          "text": [
            "[0.56718929 0.65194088 0.72937973 0.71808724 0.63830907 0.56051428\n",
            " 0.49390188 0.56253083 0.57837347 0.56113926 0.65435062 0.64221385\n",
            " 0.64887499 0.74426659 0.83097674 0.81750835 0.72681006 0.63849164\n",
            " 0.56289282 0.64025799 0.65796857 0.63836223 0.74342773 0.72963605\n",
            " 0.73706576 0.84450384 0.94207584 0.92686435 0.82469746 0.72514156\n",
            " 0.63985543 0.727096   0.74704668 0.72493549 0.84330645 0.82776662\n",
            " 0.83612833 0.95706198 1.06679904 1.04969191 0.93476494 0.82268312\n",
            " 0.72658376 0.82488173]\n"
          ],
          "name": "stdout"
        }
      ]
    },
    {
      "cell_type": "code",
      "metadata": {
        "id": "A_aJZRR-7wan",
        "colab_type": "code",
        "colab": {
          "base_uri": "https://localhost:8080/",
          "height": 265
        },
        "outputId": "09d507cc-fe52-4860-946d-bfcd8992a27c"
      },
      "source": [
        "x = np.arange(data_n.shape[0])\n",
        "plt.plot(x[:100], train, c='blue')\n",
        "plt.plot(x[100:], forecasts, c='green')\n",
        "plt.show()"
      ],
      "execution_count": 75,
      "outputs": [
        {
          "output_type": "display_data",
          "data": {
            "image/png": "[encoded data removed]",
            "text/plain": [
              "<Figure size 432x288 with 1 Axes>"
            ]
          },
          "metadata": {
            "tags": []
          }
        }
      ]
    },
    {
      "cell_type": "code",
      "metadata": {
        "id": "-rhf2Rgz66hW",
        "colab_type": "code",
        "colab": {
          "base_uri": "https://localhost:8080/",
          "height": 35
        },
        "outputId": "ed91080c-126f-46aa-85fa-12e66eb5d430"
      },
      "source": [
        "mse = mean_squared_error(forecasts, test)\n",
        "print(mse)"
      ],
      "execution_count": 76,
      "outputs": [
        {
          "output_type": "stream",
          "text": [
            "0.0054920776187293695\n"
          ],
          "name": "stdout"
        }
      ]
    },
    {
      "cell_type": "code",
      "metadata": {
        "id": "PArWr8T_93kD",
        "colab_type": "code",
        "colab": {}
      },
      "source": [
        ""
      ],
      "execution_count": 0,
      "outputs": []
    }
  ]
}